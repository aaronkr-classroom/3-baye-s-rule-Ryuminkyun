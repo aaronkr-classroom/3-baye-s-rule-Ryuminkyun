{
 "cells": [
  {
   "cell_type": "markdown",
   "metadata": {},
   "source": [
    "# Simulating Coin Flips [playground]\n",
    "\n",
    "The code below shows how you can use Python (and the `random` library) to simulate coin flips.\n",
    "\n",
    "### Instructions\n",
    "\n",
    "1. Read through the code below. What do you think you'll see when you run this code?\n",
    "\n",
    "2. Run the code. How does the output compare to what you expected?\n",
    "\n",
    "3. Run a few more times. Do you get the same result?\n",
    "\n",
    "4. How might you change the code to ensure that the \"percent heads\" is **consistently** close to 50%? Try modifying the code so that the output is consistently within 1% of 50% (HINT: you can do this by changing ONE of the numbers in the first few lines of code).\n",
    "\n",
    "# 동전 던지기 시뮬레이션 [놀이터]\n",
    "\n",
    "아래 코드는 Python(및 `random` 라이브러리)을 사용하여 동전 던지기를 시뮬레이션하는 방법을 보여줍니다.\n",
    "\n",
    "### 지침\n",
    "\n",
    "1. 아래 코드를 읽어보세요. 이 코드를 실행하면 어떤 결과가 나올 것 같나요?\n",
    "\n",
    "2. 코드를 실행합니다. 예상한 것과 출력이 어떻게 비교되나요?\n",
    "\n",
    "3. 몇 번 더 실행합니다. 같은 결과가 나오나요?\n",
    "\n",
    "4. \"퍼센트 앞면\"이 **일관되게** 50%에 가깝도록 코드를 어떻게 변경할 수 있을까요? 출력이 일관되게 50%의 1% 이내에 있도록 코드를 수정해보세요(힌트: 코드의 처음 몇 줄에서 숫자 중 하나를 변경하면 됩니다)."
   ]
  },
  {
   "cell_type": "code",
   "execution_count": 1,
   "metadata": {},
   "outputs": [
    {
     "name": "stdout",
     "output_type": "stream",
     "text": [
      "In 10 trials there were 6 heads and 4 tails\n",
      "PERCENT HEADS: 60.0 percent\n"
     ]
    }
   ],
   "source": [
    "# Import the random module and reference it as rd\n",
    "import random as rd\n",
    "\n",
    "num_trials = 10 # Sets the number of flips\n",
    "heads = 0 # A counter for the number of heads\n",
    "tails = 0 # A counter for the number of tails\n",
    "p_heads = 0.5 # The probability for heads\n",
    "\n",
    "# Simulate coin flips up to the num_trials specified\n",
    "for i in range(num_trials):\n",
    "    # Collect a random number between [0,1]\n",
    "    random_number = rd.random()\n",
    "    # If the number is less than heads count it as heads\n",
    "    # Otherwise, count it as tails\n",
    "    if random_number <= p_heads:\n",
    "        heads = heads + 1\n",
    "    else:\n",
    "        tails += 1\n",
    "\n",
    "print(\"In\", num_trials, \"trials there were\", heads, \"heads and\", tails, \"tails\")\n",
    "print(\"PERCENT HEADS:\", 100 * heads/num_trials, \"percent\")"
   ]
  },
  {
   "cell_type": "code",
   "execution_count": 2,
   "metadata": {},
   "outputs": [],
   "source": [
    "# TODO - modify ONE LINE of the above code so that \n",
    "#        running the code above consistently gives a \n",
    "#        \"percent heads\" that's between 49 - 51 percent"
   ]
  },
  {
   "cell_type": "markdown",
   "metadata": {},
   "source": [
    "# Simulating Probabilities\n",
    "The code below shows one method for simulating dice rolls. Read through it and try to understand how it works. \n",
    "\n",
    "**What does the data stored in `roll_counts` represent?**\n",
    "\n",
    "# 확률 시뮬레이션\n",
    "아래 코드는 주사위 굴리기를 시뮬레이션하는 한 가지 방법을 보여줍니다. 코드를 읽고 작동 방식을 이해해 보세요.\n",
    "\n",
    "**`roll_counts`에 저장된 데이터는 무엇을 나타냅니까?**"
   ]
  },
  {
   "cell_type": "code",
   "execution_count": 3,
   "metadata": {},
   "outputs": [
    {
     "name": "stdout",
     "output_type": "stream",
     "text": [
      "1 was rolled 189 times\n",
      "2 was rolled 173 times\n",
      "3 was rolled 176 times\n",
      "4 was rolled 140 times\n",
      "5 was rolled 174 times\n",
      "6 was rolled 148 times\n"
     ]
    }
   ],
   "source": [
    "# Import the random module and reference it as rd\n",
    "import random as rd\n",
    "\n",
    "\n",
    "def simulate_dice_rolls(N):\n",
    "    \"\"\"\n",
    "    Simulates dice rolls\n",
    "    \n",
    "    Args:\n",
    "        N (int): The number of trials\n",
    "        \n",
    "    Returns:\n",
    "        list: roll counts [1,6]\n",
    "    \"\"\"\n",
    "    # Create a list to track the 6 options for the roll\n",
    "    roll_counts = [0,0,0,0,0,0]\n",
    "    for i in range(N):\n",
    "        # Randomly select a value from the list (1 to 6)\n",
    "        roll = rd.choice([1,2,3,4,5,6]) \n",
    "        # Recall indices start at 0 so we need to decrement\n",
    "        index = roll - 1\n",
    "        roll_counts[index] = roll_counts[index] + 1\n",
    "    return roll_counts\n",
    "\n",
    "def show_roll_data(roll_counts):\n",
    "    \"\"\"\n",
    "    Shows the dice roll data\n",
    "    \n",
    "    Args:\n",
    "        roll_counts (list): The roll counts stored in the list\n",
    "        \n",
    "    Returns:\n",
    "        list: roll counts [1,6]\n",
    "    \"\"\" \n",
    "    # Gets the number of sides of the dice and prints\n",
    "    # the side of the die. \n",
    "    # enumerate creates the position of the die and the\n",
    "    # list value\n",
    "    for dice_side, frequency in enumerate(roll_counts):\n",
    "        print(dice_side + 1, \"was rolled\", frequency, \"times\")\n",
    "        \n",
    "roll_data = simulate_dice_rolls(1000)\n",
    "show_roll_data(roll_data)"
   ]
  },
  {
   "cell_type": "markdown",
   "metadata": {},
   "source": [
    "### Basic Data Visualization [optional]\n",
    "\n",
    "This section is optional but you may find it interesting.\n",
    "\n",
    "You'll learn more about this throughout the Nanodegree, but  now is a great time to look at one data visualization tool called a histogram.\n",
    "\n",
    "### 기본 데이터 시각화 [선택 사항]\n",
    "\n",
    "이 섹션은 선택 사항이지만 흥미로울 수 있습니다.\n",
    "\n",
    "Nanodegree 전반에 걸쳐 이에 대해 자세히 알아보겠지만, 지금은 히스토그램이라는 데이터 시각화 도구를 살펴보기에 좋은 시기입니다."
   ]
  },
  {
   "cell_type": "code",
   "execution_count": 4,
   "metadata": {},
   "outputs": [
    {
     "data": {
      "image/png": "[encoded data removed]",
      "text/plain": [
       "<Figure size 640x480 with 1 Axes>"
      ]
     },
     "metadata": {},
     "output_type": "display_data"
    }
   ],
   "source": [
    "# Matplotlib is one of the most common plotting packages in Python\n",
    "# to use it more succinctly, you can call it   \n",
    "from matplotlib import pyplot as plt\n",
    "# This line is needed\n",
    "%matplotlib inline\n",
    "\n",
    "def visualize_one_die(roll_data):\n",
    "    \"\"\"\n",
    "    Visualizes the dice rolls\n",
    "    \n",
    "    Args:\n",
    "        roll_data (int): roll counts in a list from [1,6]\n",
    "        \n",
    "    Returns:\n",
    "        None - shows a plot with the x-axis is the dice values\n",
    "               and the y-axis as the frequency for t\n",
    "    \"\"\"\n",
    "    roll_outcomes = [1,2,3,4,5,6]\n",
    "    fig, ax = plt.subplots()\n",
    "    ax.bar(roll_outcomes, roll_data)\n",
    "    ax.set_xlabel(\"Value on Die\")\n",
    "    ax.set_ylabel(\"# rolls\")\n",
    "    ax.set_title(\"Simulated Counts of Rolls\")\n",
    "    plt.show()\n",
    "    \n",
    "roll_data = simulate_dice_rolls(500)\n",
    "visualize_one_die(roll_data)"
   ]
  },
  {
   "cell_type": "markdown",
   "metadata": {},
   "source": [
    "```python\n",
    "\\  Car 1|\n",
    "  \\     |\n",
    "    \\   |\n",
    "Car 2 \\ |  LEFT  | STRAIGHT | RIGHT\n",
    "___________________________________\n",
    "  LEFT  |  0.5   |  0.25    | 0.1\n",
    "STRAIGHT|  0.25  |  0.02    | 0.1\n",
    " RIGHT  |  0.1   |  0.1     | 0.01\n",
    "```\n",
    "\n",
    "The truth table shown above represents the probability of two cars colliding at an intersection if they both attempt a maneuver at the same time. If Car 1 goes straight and car two goes left, for example, there is a probability of collision of 0.25.\n",
    "\n",
    "위에 표시된 진리표는 두 대의 차가 동시에 기동을 시도할 경우 교차로에서 충돌할 확률을 나타냅니다. 예를 들어, 차 1이 직진하고 차 2가 좌회전하면 충돌 확률은 0.25입니다.\n",
    "\n"
   ]
  },
  {
   "cell_type": "code",
   "execution_count": 5,
   "metadata": {},
   "outputs": [
    {
     "ename": "IndentationError",
     "evalue": "expected an indented block after 'if' statement on line 15 (538690616.py, line 18)",
     "output_type": "error",
     "traceback": [
      "\u001b[1;36m  Cell \u001b[1;32mIn[5], line 18\u001b[1;36m\u001b[0m\n\u001b[1;33m    elif car_1 == \"S\":\u001b[0m\n\u001b[1;37m    ^\u001b[0m\n\u001b[1;31mIndentationError\u001b[0m\u001b[1;31m:\u001b[0m expected an indented block after 'if' statement on line 15\n"
     ]
    }
   ],
   "source": [
    "def probability_of_collision(car_1, car_2):\n",
    "    \"\"\"\n",
    "    Calculate the probablity of a collision based on the car turns\n",
    "    Args:\n",
    "        car_1 (string): The turning direction of car_1\n",
    "        car_2 (string): The turning direction of car_2\n",
    "        \n",
    "    Returns:\n",
    "        float: the probability of a collision\n",
    "    \"\"\"\n",
    "    # car_1 and car_2 will each be strings whose value will either be \n",
    "    # \"L\" for left, \"S\" for straight, or \"R\" for right.\n",
    "    probability = 0.0 # you should change this value based on the directions.\n",
    "    \n",
    "    if car_1 == \"L\":\n",
    "        \n",
    "        # TODO your code here for when car 1 turns left\n",
    "    elif car_1 == \"S\":\n",
    "        \n",
    "        # TODO your code here for when car 1 goes straight\n",
    "    else:\n",
    "        \n",
    "        # TODO your code here for when car 1 turns right\n",
    "    \n",
    "    return probability"
   ]
  }
 ],
 "metadata": {
  "kernelspec": {
   "display_name": "base",
   "language": "python",
   "name": "python3"
  },
  "language_info": {
   "codemirror_mode": {
    "name": "ipython",
    "version": 3
   },
   "file_extension": ".py",
   "mimetype": "text/x-python",
   "name": "python",
   "nbconvert_exporter": "python",
   "pygments_lexer": "ipython3",
   "version": "3.12.7"
  }
 },
 "nbformat": 4,
 "nbformat_minor": 2
}
